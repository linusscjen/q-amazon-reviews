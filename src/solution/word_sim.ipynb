{
 "cells": [
  {
   "cell_type": "markdown",
   "metadata": {},
   "source": [
    "# Solution: Text Extraction and Imputing Missing Data\n",
    "\n",
    "For this second NLP project, I will be using various NLP tactics to fill in for missing data, specifically those in the `BULLET_POINTS` and `DESCRIPTION` columns. To do this, first I'll be using `spaCy` to extract keywords, and then using `GPT-J` (or another GPT equivalent model) to combine these keywords into a description. This would help Amazon vendors with filling out information quicker, as they can get succinct descriptions given their product's title."
   ]
  },
  {
   "cell_type": "code",
   "execution_count": 1,
   "metadata": {},
   "outputs": [],
   "source": [
    "# Modules\n",
    "import pandas as pd\n",
    "import numpy as np\n",
    "from pathlib import Path\n",
    "import os\n",
    "from plotnine import *\n",
    "import re\n",
    "from transformers import GPT2Tokenizer, GPT2Model, pipeline, set_seed\n",
    "import spacy\n",
    "from string import punctuation\n",
    "from collections import Counter\n",
    "from gpt_j.Basic_api import simple_completion\n",
    "from gpt_j.gptj_api import Completion\n",
    "from transformers import GPTJForCausalLM, AutoTokenizer\n",
    "import torch"
   ]
  },
  {
   "cell_type": "markdown",
   "metadata": {},
   "source": [
    "## Setup\n",
    "\n",
    "First, we'll need to do some general setup. Because of how large the datasets are, I'll only be using a subset (1000) of the Amazon reviews dataset."
   ]
  },
  {
   "cell_type": "code",
   "execution_count": 2,
   "metadata": {},
   "outputs": [],
   "source": [
    "# Load in data\n",
    "try:\n",
    "    reviews = pd.read_csv(Path(os.getcwd()).parents[0].joinpath(\"data\", \"amazon_reviews_clean.csv\"))\n",
    "except FileNotFoundError:\n",
    "    reviews = pd.read_csv(Path(os.getcwd()).parents[0].joinpath(\"data\", \"train.csv\"))"
   ]
  },
  {
   "cell_type": "code",
   "execution_count": 3,
   "metadata": {},
   "outputs": [],
   "source": [
    "# Use a smaller dataset due to memory size concerns and constraints\n",
    "rev_sub = (reviews[(reviews[\"BULLET_POINTS\"].isnull()) & \n",
    "                  (reviews[\"DESCRIPTION\"].isnull())]\n",
    "           .sample(n=100, random_state=5))\n",
    "del reviews"
   ]
  },
  {
   "cell_type": "code",
   "execution_count": 4,
   "metadata": {},
   "outputs": [
    {
     "data": {
      "text/plain": [
       "True"
      ]
     },
     "execution_count": 4,
     "metadata": {},
     "output_type": "execute_result"
    }
   ],
   "source": [
    "torch.cuda.is_available()"
   ]
  },
  {
   "cell_type": "code",
   "execution_count": 5,
   "metadata": {},
   "outputs": [],
   "source": [
    "# Setup GPU\n",
    "device = \"cuda\"\n",
    "model = GPTJForCausalLM.from_pretrained(\n",
    "    \"EleutherAI/gpt-j-6B\",\n",
    "    revision=\"float16\",\n",
    "    torch_dtype=torch.float16,\n",
    ").to(device)\n",
    "tokenizer = AutoTokenizer.from_pretrained(\"EleutherAI/gpt-j-6B\")"
   ]
  },
  {
   "cell_type": "markdown",
   "metadata": {},
   "source": [
    "## Plan\n",
    "\n",
    "First, we'll use `spaCy` to extract all keywords from the title. Then, a GPT model will be used to combine them into a `DESCRIPTION`, and both will be used for the dataset."
   ]
  },
  {
   "cell_type": "code",
   "execution_count": 6,
   "metadata": {},
   "outputs": [],
   "source": [
    "# First, apply spaCy\n",
    "# Pulled from https://towardsdatascience.com/keyword-extraction-process-in-python-with-natural-language-processing-nlp-d769a9069d5c\n",
    "def get_keywords(text: str, top_n: int=8):\n",
    "    nlp = spacy.load(\"en_core_web_sm\")\n",
    "    result = []\n",
    "    pos_tag = [\"PROPN\", \"ADJ\", \"NOUN\"]\n",
    "    doc = nlp(text.lower())\n",
    "    for token in doc:\n",
    "        if(token.text in nlp.Defaults.stop_words or token.text in punctuation):\n",
    "            continue\n",
    "        \n",
    "        if token.pos_ in pos_tag:\n",
    "            result.append(token.text)\n",
    "            \n",
    "    return \", \".join([x[0] for x in Counter(result).most_common(top_n)])"
   ]
  },
  {
   "cell_type": "code",
   "execution_count": 7,
   "metadata": {},
   "outputs": [],
   "source": [
    "# Apply get_keywords to `BULLET_POINTS`\n",
    "rev_sub[\"BULLET_POINTS\"] = rev_sub[\"TITLE\"].apply(get_keywords)"
   ]
  },
  {
   "cell_type": "code",
   "execution_count": 8,
   "metadata": {},
   "outputs": [],
   "source": [
    "def create_description(row):\n",
    "    # Prompt engineering \n",
    "    prompt = (f\"Create a short product description for the Amazon product \\\"{row['TITLE']}\\\". \"\n",
    "              \"Use the following keywords to write the description.\"\n",
    "              f\"\\nKeywords: {row['BULLET_POINTS']}\"\n",
    "              f\"\\nDescription: \")\n",
    "    input_ids = tokenizer(prompt, return_tensors=\"pt\").input_ids.to(device)\n",
    "    \n",
    "    gen_tokens = model.generate(\n",
    "        input_ids,\n",
    "        do_sample=True,\n",
    "        temperature=0.75,\n",
    "        max_length = 200,\n",
    "        pad_token_id=tokenizer.eos_token_id\n",
    "    )\n",
    "    \n",
    "    gen_text = tokenizer.batch_decode(gen_tokens)[0]\n",
    "    \n",
    "    # Remove prompt\n",
    "    gen_text = gen_text.replace(prompt, \"\")\n",
    "    \n",
    "    return gen_text"
   ]
  },
  {
   "cell_type": "code",
   "execution_count": 22,
   "metadata": {},
   "outputs": [],
   "source": [
    "# Now, create a `DESCRIPTION` given the newfound `BULLET_POINTS`\n",
    "descriptions = []\n",
    "\n",
    "for index, row in rev_sub.iterrows():\n",
    "    descriptions.append(create_description(row))"
   ]
  },
  {
   "cell_type": "code",
   "execution_count": 14,
   "metadata": {},
   "outputs": [
    {
     "name": "stdout",
     "output_type": "stream",
     "text": [
      "\n",
      "The Book of Ulster Surnames is a new genealogy product, aimed at beginners and intermediate users who want to trace their Ulster ancestors easily.\n",
      "\n",
      "As shown above, the key to this question is to know how to use the keywords and, more importantly, how to write a proper description.\n",
      "In order to create a proper description, you must first know what you are writing about.\n",
      "Think about what you are writing about. \n",
      "You've chosen a unique and interesting product.\n",
      "You are writing a description for it, not a generic description for any product.\n",
      "I want to trace my Ulster ancestors easily.\n",
      "That's the focus of the description.\n",
      "In a nutshell:\n",
      "\n",
      "You are writing a description for a product that is aimed at beginners.\n",
      "\n"
     ]
    }
   ],
   "source": [
    "print(descriptions[1])"
   ]
  },
  {
   "cell_type": "markdown",
   "metadata": {},
   "source": [
    "## Analysis and Results\n",
    "\n",
    "Now that we have our descriptions, let's check out some of these results."
   ]
  },
  {
   "cell_type": "code",
   "execution_count": 35,
   "metadata": {},
   "outputs": [
    {
     "name": "stdout",
     "output_type": "stream",
     "text": [
      "\n",
      "\n",
      "A:\n",
      "\n",
      "You could use freeform text, as you won't be using any of the structured fields. \n",
      "If you were to use the structured fields, the best you could do is to use the ProductTitle field, but you cannot have more than one ProductTitle per product, so you will be limited to using only one of these:\n",
      "\n",
      "How to create the future you want: getting from where you are to where you ought to be\n",
      "How to create the future you want: the step by step guide to getting from where you are to where you ought to be\n",
      "The step by step manual to creating the future you want\n",
      "\n",
      "You can only use the first 7 characters. You could also use the ProductDescription field,\n",
      "-----------------\n",
      "\n",
      "\n",
      "A:\n",
      "\n",
      "You could use the Amazon Product API to fetch the data for the product and build the short description using that data. \n",
      "This would allow you to create an API endpoint that looks something like this:\n",
      "http://api.amazon.com/product/product-attributes.json?ASIN=B000N6VH8G&Operation=ItemLookup\n",
      "\n",
      "Which returns a JSON document that looks something like this:\n",
      "{\"Item\":{\"ASIN\":\"B000N6VH8G\",\"Title\":\"The Book of Ulster Surnames\",\"ProductType\":\"Book\",\"ISBN13\":\"978-1859581521\",\"ListPrice\":\"23.99\",\"ImgUrl\":\"https://images-na.ssl-images-\n",
      "-----------------\n",
      "\n",
      "\n",
      "The official \"blue\" annual 2003: blue and white design, blue and white color design, blue and white image\n",
      "\n",
      "The official \"blue\" annual 2003: blue and white design, blue and white color design, blue and white image.<|endoftext|>\n",
      "-----------------\n",
      "\n",
      "Longer descriptions take the reader's attention away from the keywords, so keep this in mind when creating your long descriptions. You can also add to the description to increase the number of characters, and use the same keywords.\n",
      "\n",
      "A:\n",
      "\n",
      "A short description on amazon will help to boost up your ranking in search.\n",
      "You need to add a title of your product page to the description.\n",
      "If you don't have a title, go and create one for your product page.\n",
      "\n",
      "A:\n",
      "\n",
      "It's very important for a product description to be keyword rich. That way your keywords will be used by the search engine and your product will show up in the search results for keywords you provide. The length of the description in an Amazon product is set by Amazon so there\n",
      "-----------------\n",
      "\n",
      "Concise Bible Characters (Amg Concise Series)\n",
      "This a concise version of the Bible. It has concise character descriptions from the biblical personalities that have been condensed into a concise, easy-to-read format.\n",
      "\n",
      "This product is designed to be used as a reference tool for those who don't have the time to read through a complete Bible.\n",
      "\n",
      "The concise Bible has been designed to be used as a daily study aid for individuals who are new to the Bible.\n",
      "\n",
      "The concise Bible includes an introduction to Christian teaching (e.g., the Trinity, the Fall, original sin, original righteousness, redemption, salvation, etc.), as well as a biblical exposition of the doctrine of Christ.\n",
      "\n",
      "The concise Bible's character descriptions\n",
      "-----------------\n",
      "\n",
      "Amazon will use the keywords you entered to create product descriptions and to help customers find the product.\n",
      "\n",
      "I have tried:\n",
      "<p>{{ product.productSpec.msc4.description }}</p>\n",
      "<p>{{ product.productSpec.msc4.description }}</p>\n",
      "\n",
      "<p>{{ product.msc4.description }}</p>\n",
      "<p>{{ product.msc4.description }}</p>\n",
      "\n",
      "{{ product.productSpec.msc4\n",
      "-----------------\n",
      "\n",
      "A funny journal for pastry chefs! Includes 6x9 inch pages and 100 pages.\n",
      "\n",
      "Note: The keywords and description are subject to change at any time.\n",
      "\n",
      "If you do not have access to the product description, you can use the following information to create a short product description.\n",
      "Product Title: \"i had a life but my pastry chef job ate it: hilarious and funny journal for pastry chef\"\n",
      "Category: \"Christmas\"\n",
      "Keywords: pastry, chef, funny, life, job, hilarious, journal, christmas\n",
      "Description: \n",
      "-----------------\n",
      "\n",
      "\n",
      "The following keywords describe the contents of this Amazon product\n",
      "\n",
      "* elements\n",
      "* elementary\n",
      "* physics\n",
      "\n",
      "Write a short description of your product. Don't forget to include keywords for\n",
      "your Amazon product. This is an example of a product short description.\n",
      "Example product, written by a real human:\n",
      "\n",
      "Physical and mathematical concepts that describe the universe and our place in it,\n",
      "\n",
      "* are introduced and explored in a student-centered way,\n",
      "\n",
      "* are presented through a variety of engaging and interactive activities,\n",
      "\n",
      "* are supported by extensive reference material,\n",
      "\n",
      "* are presented in a logical order that is easy to follow,\n",
      "\n",
      "* are presented in multiple formats, including graphical, written, and interactive,\n",
      "\n",
      "* are taught in a manner that makes them intuitive to learn and\n",
      "-----------------\n",
      "Create a short product description for the Amazon product \"look, look, an abc book!: a fruity abc board book for happy toddlers and baby to 2 preschool early learning\". Use the following keywords to write the description.\n",
      "Keywords: abc, book, fruity, board, happy, toddlers, baby, preschool\n",
      "Description: \n",
      "\n",
      "A:\n",
      "\n",
      "You can use the following regular expression:\n",
      "(?:^|\\s)abc(?:$|\\s)\n",
      "\n",
      "Replace abc with the required keyword.\n",
      "https://regex101.com/r/oE9tA5/1\n",
      "\n",
      "<|endoftext|>\n",
      "-----------------\n",
      " (You can view the full list of keywords by clicking \"keywords\" at the bottom of the page.)\n",
      "\n",
      "In order to make sure that the description is completely filled with the provided keywords, just use the keywords as they appear in the description, but leave some space between each keyword.\n",
      "The following is an example of the kind of description that you should write:\n",
      "\n",
      "The British decision to end east of suez was the final move in a series of British moves that began in 1941, when the british decided to withdraw from the malay archipelago. The decision was made\n",
      "-----------------\n"
     ]
    }
   ],
   "source": [
    "for index, row in rev_sub.iloc[0:10, :].iterrows():\n",
    "    print(row[\"DESCRIPTION\"])\n",
    "    print(\"-----------------\")"
   ]
  },
  {
   "cell_type": "markdown",
   "metadata": {},
   "source": [
    "From the outputs above, it's clear that some work needs to be done. I've tried modifying the prompts (prompt engineering), providing context + one/few shot prompting, but nothing seemed to improve it.\n",
    "\n",
    "However, we do see some instances of success. For example, in `PRODUCT_ID` of <>, the product is \"i had a life but my pastry chef job ate it: hilarious and funny journal for pastry chef - funny christmas and birthday gift idea for pastry chef - pastry chef notebook - 100 pages 6x9 inch\" with a created description of \"A funny journal for pastry chefs! Includes 6x9 inch pages and 100 pages.\""
   ]
  },
  {
   "cell_type": "code",
   "execution_count": 31,
   "metadata": {},
   "outputs": [],
   "source": [
    "# Save new df\n",
    "rev_sub[\"DESCRIPTION\"] = descriptions\n",
    "rev_sub.drop(\"DESCRIPTIONS\", axis=1, inplace=True)\n",
    "\n",
    "rev_sub.to_csv(Path(os.getcwd()).parents[0].joinpath(\"data\", \"reviews_imputed.csv\"))"
   ]
  },
  {
   "cell_type": "markdown",
   "metadata": {},
   "source": []
  }
 ],
 "metadata": {
  "kernelspec": {
   "display_name": "venv",
   "language": "python",
   "name": "python3"
  },
  "language_info": {
   "codemirror_mode": {
    "name": "ipython",
    "version": 3
   },
   "file_extension": ".py",
   "mimetype": "text/x-python",
   "name": "python",
   "nbconvert_exporter": "python",
   "pygments_lexer": "ipython3",
   "version": "3.10.10"
  },
  "orig_nbformat": 4
 },
 "nbformat": 4,
 "nbformat_minor": 2
}
