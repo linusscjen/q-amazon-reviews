{
 "cells": [
  {
   "cell_type": "markdown",
   "metadata": {},
   "source": [
    "# Amazon Review EDA\n",
    "\n",
    "General EDA to understand the data, and create potential avenues for a model. Data from [this Amazon Product Dataset on Kaggle](https://www.kaggle.com/datasets/piyushjain16/amazon-product-data) - note that no meta card was provided."
   ]
  },
  {
   "cell_type": "code",
   "execution_count": 27,
   "metadata": {},
   "outputs": [
    {
     "ename": "ModuleNotFoundError",
     "evalue": "No module named 'matplotlib'",
     "output_type": "error",
     "traceback": [
      "\u001b[1;31m---------------------------------------------------------------------------\u001b[0m",
      "\u001b[1;31mModuleNotFoundError\u001b[0m                       Traceback (most recent call last)",
      "Cell \u001b[1;32mIn[27], line 6\u001b[0m\n\u001b[0;32m      4\u001b[0m \u001b[39mfrom\u001b[39;00m \u001b[39mpathlib\u001b[39;00m \u001b[39mimport\u001b[39;00m Path\n\u001b[0;32m      5\u001b[0m \u001b[39mimport\u001b[39;00m \u001b[39mos\u001b[39;00m\n\u001b[1;32m----> 6\u001b[0m \u001b[39mimport\u001b[39;00m \u001b[39mmatplotlib\u001b[39;00m\u001b[39m.\u001b[39;00m\u001b[39mpyplot\u001b[39;00m \u001b[39mas\u001b[39;00m \u001b[39mplt\u001b[39;00m\n",
      "\u001b[1;31mModuleNotFoundError\u001b[0m: No module named 'matplotlib'"
     ]
    }
   ],
   "source": [
    "# Modules\n",
    "import pandas as pd\n",
    "import numpy as np\n",
    "from pathlib import Path\n",
    "import os\n",
    "# TODO: import matplotlib.pyplot as plt"
   ]
  },
  {
   "cell_type": "code",
   "execution_count": 2,
   "metadata": {},
   "outputs": [],
   "source": [
    "# Load in data\n",
    "try:\n",
    "    reviews = pd.read_csv(Path(os.getcwd()).parents[0].joinpath(\"data\", \"amazon_reviews.csv\"))\n",
    "except FileNotFoundError:\n",
    "    reviews = pd.read_csv(Path(os.getcwd()).parents[0].joinpath(\"data\", \"train.csv\"))"
   ]
  },
  {
   "cell_type": "markdown",
   "metadata": {},
   "source": [
    "Took 18 seconds to load on OP computer.\n",
    "On laptop, it took 1m21s! Geez..."
   ]
  },
  {
   "cell_type": "markdown",
   "metadata": {},
   "source": [
    "## Data Exploration\n",
    "\n",
    "Because there isn't a metacard provided, let's do some old-fashioned EDA."
   ]
  },
  {
   "cell_type": "code",
   "execution_count": 3,
   "metadata": {},
   "outputs": [
    {
     "data": {
      "text/html": [
       "<div>\n",
       "<style scoped>\n",
       "    .dataframe tbody tr th:only-of-type {\n",
       "        vertical-align: middle;\n",
       "    }\n",
       "\n",
       "    .dataframe tbody tr th {\n",
       "        vertical-align: top;\n",
       "    }\n",
       "\n",
       "    .dataframe thead th {\n",
       "        text-align: right;\n",
       "    }\n",
       "</style>\n",
       "<table border=\"1\" class=\"dataframe\">\n",
       "  <thead>\n",
       "    <tr style=\"text-align: right;\">\n",
       "      <th></th>\n",
       "      <th>PRODUCT_ID</th>\n",
       "      <th>TITLE</th>\n",
       "      <th>BULLET_POINTS</th>\n",
       "      <th>DESCRIPTION</th>\n",
       "      <th>PRODUCT_TYPE_ID</th>\n",
       "      <th>PRODUCT_LENGTH</th>\n",
       "    </tr>\n",
       "  </thead>\n",
       "  <tbody>\n",
       "    <tr>\n",
       "      <th>0</th>\n",
       "      <td>1925202</td>\n",
       "      <td>ArtzFolio Tulip Flowers Blackout Curtain for D...</td>\n",
       "      <td>[LUXURIOUS &amp; APPEALING: Beautiful custom-made ...</td>\n",
       "      <td>NaN</td>\n",
       "      <td>1650</td>\n",
       "      <td>2125.980000</td>\n",
       "    </tr>\n",
       "    <tr>\n",
       "      <th>1</th>\n",
       "      <td>2673191</td>\n",
       "      <td>Marks &amp; Spencer Girls' Pyjama Sets T86_2561C_N...</td>\n",
       "      <td>[Harry Potter Hedwig Pyjamas (6-16 Yrs),100% c...</td>\n",
       "      <td>NaN</td>\n",
       "      <td>2755</td>\n",
       "      <td>393.700000</td>\n",
       "    </tr>\n",
       "    <tr>\n",
       "      <th>2</th>\n",
       "      <td>2765088</td>\n",
       "      <td>PRIKNIK Horn Red Electric Air Horn Compressor ...</td>\n",
       "      <td>[Loud Dual Tone Trumpet Horn, Compatible With ...</td>\n",
       "      <td>Specifications: Color: Red, Material: Aluminiu...</td>\n",
       "      <td>7537</td>\n",
       "      <td>748.031495</td>\n",
       "    </tr>\n",
       "    <tr>\n",
       "      <th>3</th>\n",
       "      <td>1594019</td>\n",
       "      <td>ALISHAH Women's Cotton Ankle Length Leggings C...</td>\n",
       "      <td>[Made By 95%cotton and 5% Lycra which gives yo...</td>\n",
       "      <td>AISHAH Women's Lycra Cotton Ankel Leggings. Br...</td>\n",
       "      <td>2996</td>\n",
       "      <td>787.401574</td>\n",
       "    </tr>\n",
       "    <tr>\n",
       "      <th>4</th>\n",
       "      <td>283658</td>\n",
       "      <td>The United Empire Loyalists: A Chronicle of th...</td>\n",
       "      <td>NaN</td>\n",
       "      <td>NaN</td>\n",
       "      <td>6112</td>\n",
       "      <td>598.424000</td>\n",
       "    </tr>\n",
       "  </tbody>\n",
       "</table>\n",
       "</div>"
      ],
      "text/plain": [
       "   PRODUCT_ID                                              TITLE  \\\n",
       "0     1925202  ArtzFolio Tulip Flowers Blackout Curtain for D...   \n",
       "1     2673191  Marks & Spencer Girls' Pyjama Sets T86_2561C_N...   \n",
       "2     2765088  PRIKNIK Horn Red Electric Air Horn Compressor ...   \n",
       "3     1594019  ALISHAH Women's Cotton Ankle Length Leggings C...   \n",
       "4      283658  The United Empire Loyalists: A Chronicle of th...   \n",
       "\n",
       "                                       BULLET_POINTS  \\\n",
       "0  [LUXURIOUS & APPEALING: Beautiful custom-made ...   \n",
       "1  [Harry Potter Hedwig Pyjamas (6-16 Yrs),100% c...   \n",
       "2  [Loud Dual Tone Trumpet Horn, Compatible With ...   \n",
       "3  [Made By 95%cotton and 5% Lycra which gives yo...   \n",
       "4                                                NaN   \n",
       "\n",
       "                                         DESCRIPTION  PRODUCT_TYPE_ID  \\\n",
       "0                                                NaN             1650   \n",
       "1                                                NaN             2755   \n",
       "2  Specifications: Color: Red, Material: Aluminiu...             7537   \n",
       "3  AISHAH Women's Lycra Cotton Ankel Leggings. Br...             2996   \n",
       "4                                                NaN             6112   \n",
       "\n",
       "   PRODUCT_LENGTH  \n",
       "0     2125.980000  \n",
       "1      393.700000  \n",
       "2      748.031495  \n",
       "3      787.401574  \n",
       "4      598.424000  "
      ]
     },
     "execution_count": 3,
     "metadata": {},
     "output_type": "execute_result"
    }
   ],
   "source": [
    "reviews.head()"
   ]
  },
  {
   "cell_type": "code",
   "execution_count": 4,
   "metadata": {},
   "outputs": [
    {
     "name": "stdout",
     "output_type": "stream",
     "text": [
      "Data dimensions: (2249698, 6)\n"
     ]
    }
   ],
   "source": [
    "# View head\n",
    "print(f\"Data dimensions: {reviews.shape}\")"
   ]
  },
  {
   "cell_type": "markdown",
   "metadata": {},
   "source": [
    "We have 6 columns with 2,249,698 rows (products). Columns include a `PRODUCT_ID`, `TITLE`, `BULLET_POINTS`, `DESCRIPTION`, `PRODUCT_TYPE_ID`, and `PRODUCT_LENGTH`."
   ]
  },
  {
   "cell_type": "markdown",
   "metadata": {},
   "source": [
    "### Feature Exploration\n",
    "\n",
    "What data is missing? What is the distribution for the numeric columns (`PRODUCT_TYPE_ID` and `PRODUCT_LENGTH`)?"
   ]
  },
  {
   "cell_type": "code",
   "execution_count": 21,
   "metadata": {},
   "outputs": [
    {
     "data": {
      "text/html": [
       "<div>\n",
       "<style scoped>\n",
       "    .dataframe tbody tr th:only-of-type {\n",
       "        vertical-align: middle;\n",
       "    }\n",
       "\n",
       "    .dataframe tbody tr th {\n",
       "        vertical-align: top;\n",
       "    }\n",
       "\n",
       "    .dataframe thead th {\n",
       "        text-align: right;\n",
       "    }\n",
       "</style>\n",
       "<table border=\"1\" class=\"dataframe\">\n",
       "  <thead>\n",
       "    <tr style=\"text-align: right;\">\n",
       "      <th></th>\n",
       "      <th>column</th>\n",
       "      <th>num_miss</th>\n",
       "      <th>prop_miss</th>\n",
       "    </tr>\n",
       "  </thead>\n",
       "  <tbody>\n",
       "    <tr>\n",
       "      <th>0</th>\n",
       "      <td>PRODUCT_ID</td>\n",
       "      <td>0</td>\n",
       "      <td>0.0000</td>\n",
       "    </tr>\n",
       "    <tr>\n",
       "      <th>1</th>\n",
       "      <td>TITLE</td>\n",
       "      <td>13</td>\n",
       "      <td>0.0000</td>\n",
       "    </tr>\n",
       "    <tr>\n",
       "      <th>2</th>\n",
       "      <td>BULLET_POINTS</td>\n",
       "      <td>837366</td>\n",
       "      <td>0.3722</td>\n",
       "    </tr>\n",
       "    <tr>\n",
       "      <th>3</th>\n",
       "      <td>DESCRIPTION</td>\n",
       "      <td>1157382</td>\n",
       "      <td>0.5145</td>\n",
       "    </tr>\n",
       "    <tr>\n",
       "      <th>4</th>\n",
       "      <td>PRODUCT_TYPE_ID</td>\n",
       "      <td>0</td>\n",
       "      <td>0.0000</td>\n",
       "    </tr>\n",
       "    <tr>\n",
       "      <th>5</th>\n",
       "      <td>PRODUCT_LENGTH</td>\n",
       "      <td>0</td>\n",
       "      <td>0.0000</td>\n",
       "    </tr>\n",
       "  </tbody>\n",
       "</table>\n",
       "</div>"
      ],
      "text/plain": [
       "            column  num_miss  prop_miss\n",
       "0       PRODUCT_ID         0     0.0000\n",
       "1            TITLE        13     0.0000\n",
       "2    BULLET_POINTS    837366     0.3722\n",
       "3      DESCRIPTION   1157382     0.5145\n",
       "4  PRODUCT_TYPE_ID         0     0.0000\n",
       "5   PRODUCT_LENGTH         0     0.0000"
      ]
     },
     "execution_count": 21,
     "metadata": {},
     "output_type": "execute_result"
    }
   ],
   "source": [
    "# Missing data\n",
    "missing_df = pd.DataFrame(reviews.isnull().sum()).reset_index()\n",
    "missing_df.columns = [\"column\", \"num_miss\"]\n",
    "missing_df[\"prop_miss\"] = round(missing_df[\"num_miss\"] / reviews.shape[0], 4)\n",
    "missing_df"
   ]
  },
  {
   "cell_type": "code",
   "execution_count": 43,
   "metadata": {},
   "outputs": [
    {
     "name": "stdout",
     "output_type": "stream",
     "text": [
      "# of unique product IDs: 2249698\n"
     ]
    }
   ],
   "source": [
    "# Check uniqueness of `PRODUCT_ID`\n",
    "print(f\"# of unique product IDs: {reviews['PRODUCT_ID'].nunique()}\")\n",
    "\n",
    "if reviews['PRODUCT_ID'].nunique() != reviews.shape[0]:\n",
    "    print(\"Not all products in dataset are unique!\")"
   ]
  },
  {
   "cell_type": "code",
   "execution_count": 25,
   "metadata": {},
   "outputs": [
    {
     "name": "stdout",
     "output_type": "stream",
     "text": [
      "Missing for both `BULLET_POINTS` and `DESCRIPTION`: 783508 or 0.34827252368984635\n"
     ]
    }
   ],
   "source": [
    "# Likelihood that BOTH `BULLET_POINTS` and `DESCRIPTION` are missing\n",
    "both_miss = reviews[[\"BULLET_POINTS\", \"DESCRIPTION\"]].isnull().all(axis=1).sum()\n",
    "prop_both_miss = both_miss / reviews.shape[0]\n",
    "print(f\"Missing for both `BULLET_POINTS` and `DESCRIPTION`: {both_miss} or {prop_both_miss}\")"
   ]
  },
  {
   "cell_type": "code",
   "execution_count": 26,
   "metadata": {},
   "outputs": [
    {
     "data": {
      "text/html": [
       "<div>\n",
       "<style scoped>\n",
       "    .dataframe tbody tr th:only-of-type {\n",
       "        vertical-align: middle;\n",
       "    }\n",
       "\n",
       "    .dataframe tbody tr th {\n",
       "        vertical-align: top;\n",
       "    }\n",
       "\n",
       "    .dataframe thead th {\n",
       "        text-align: right;\n",
       "    }\n",
       "</style>\n",
       "<table border=\"1\" class=\"dataframe\">\n",
       "  <thead>\n",
       "    <tr style=\"text-align: right;\">\n",
       "      <th></th>\n",
       "      <th>PRODUCT_ID</th>\n",
       "      <th>TITLE</th>\n",
       "      <th>BULLET_POINTS</th>\n",
       "      <th>DESCRIPTION</th>\n",
       "      <th>PRODUCT_TYPE_ID</th>\n",
       "      <th>PRODUCT_LENGTH</th>\n",
       "    </tr>\n",
       "  </thead>\n",
       "  <tbody>\n",
       "    <tr>\n",
       "      <th>66157</th>\n",
       "      <td>1804</td>\n",
       "      <td>NaN</td>\n",
       "      <td>NaN</td>\n",
       "      <td>NaN</td>\n",
       "      <td>222</td>\n",
       "      <td>507.873000</td>\n",
       "    </tr>\n",
       "    <tr>\n",
       "      <th>196485</th>\n",
       "      <td>164542</td>\n",
       "      <td>NaN</td>\n",
       "      <td>NaN</td>\n",
       "      <td>NaN</td>\n",
       "      <td>150</td>\n",
       "      <td>575.000000</td>\n",
       "    </tr>\n",
       "    <tr>\n",
       "      <th>420890</th>\n",
       "      <td>16935</td>\n",
       "      <td>NaN</td>\n",
       "      <td>NaN</td>\n",
       "      <td>NaN</td>\n",
       "      <td>6104</td>\n",
       "      <td>290.000000</td>\n",
       "    </tr>\n",
       "    <tr>\n",
       "      <th>477469</th>\n",
       "      <td>1362139</td>\n",
       "      <td>NaN</td>\n",
       "      <td>[Top-notch and innovative tremolo pedal offers...</td>\n",
       "      <td>NaN</td>\n",
       "      <td>6632</td>\n",
       "      <td>500.000000</td>\n",
       "    </tr>\n",
       "    <tr>\n",
       "      <th>948754</th>\n",
       "      <td>566503</td>\n",
       "      <td>NaN</td>\n",
       "      <td>NaN</td>\n",
       "      <td>NaN</td>\n",
       "      <td>109</td>\n",
       "      <td>555.117000</td>\n",
       "    </tr>\n",
       "    <tr>\n",
       "      <th>1144461</th>\n",
       "      <td>678966</td>\n",
       "      <td>NaN</td>\n",
       "      <td>NaN</td>\n",
       "      <td>NaN</td>\n",
       "      <td>1</td>\n",
       "      <td>685.038000</td>\n",
       "    </tr>\n",
       "    <tr>\n",
       "      <th>1364032</th>\n",
       "      <td>548186</td>\n",
       "      <td>NaN</td>\n",
       "      <td>NaN</td>\n",
       "      <td>NaN</td>\n",
       "      <td>1</td>\n",
       "      <td>1228.344000</td>\n",
       "    </tr>\n",
       "    <tr>\n",
       "      <th>1716822</th>\n",
       "      <td>20369</td>\n",
       "      <td>NaN</td>\n",
       "      <td>NaN</td>\n",
       "      <td>NaN</td>\n",
       "      <td>154</td>\n",
       "      <td>1040.000000</td>\n",
       "    </tr>\n",
       "    <tr>\n",
       "      <th>1879925</th>\n",
       "      <td>496531</td>\n",
       "      <td>NaN</td>\n",
       "      <td>NaN</td>\n",
       "      <td>NaN</td>\n",
       "      <td>1</td>\n",
       "      <td>799.211000</td>\n",
       "    </tr>\n",
       "    <tr>\n",
       "      <th>1885213</th>\n",
       "      <td>555363</td>\n",
       "      <td>NaN</td>\n",
       "      <td>NaN</td>\n",
       "      <td>NaN</td>\n",
       "      <td>151</td>\n",
       "      <td>846.455000</td>\n",
       "    </tr>\n",
       "    <tr>\n",
       "      <th>1937873</th>\n",
       "      <td>1401496</td>\n",
       "      <td>NaN</td>\n",
       "      <td>[PACKAGE CONTENT: 6 Table Mats &amp; 6 Coasters | ...</td>\n",
       "      <td>NaN</td>\n",
       "      <td>1346</td>\n",
       "      <td>1181.102361</td>\n",
       "    </tr>\n",
       "    <tr>\n",
       "      <th>2108453</th>\n",
       "      <td>113675</td>\n",
       "      <td>NaN</td>\n",
       "      <td>NaN</td>\n",
       "      <td>NaN</td>\n",
       "      <td>6044</td>\n",
       "      <td>600.000000</td>\n",
       "    </tr>\n",
       "    <tr>\n",
       "      <th>2174826</th>\n",
       "      <td>230468</td>\n",
       "      <td>NaN</td>\n",
       "      <td>NaN</td>\n",
       "      <td>NaN</td>\n",
       "      <td>1</td>\n",
       "      <td>750.000000</td>\n",
       "    </tr>\n",
       "  </tbody>\n",
       "</table>\n",
       "</div>"
      ],
      "text/plain": [
       "         PRODUCT_ID TITLE                                      BULLET_POINTS  \\\n",
       "66157          1804   NaN                                                NaN   \n",
       "196485       164542   NaN                                                NaN   \n",
       "420890        16935   NaN                                                NaN   \n",
       "477469      1362139   NaN  [Top-notch and innovative tremolo pedal offers...   \n",
       "948754       566503   NaN                                                NaN   \n",
       "1144461      678966   NaN                                                NaN   \n",
       "1364032      548186   NaN                                                NaN   \n",
       "1716822       20369   NaN                                                NaN   \n",
       "1879925      496531   NaN                                                NaN   \n",
       "1885213      555363   NaN                                                NaN   \n",
       "1937873     1401496   NaN  [PACKAGE CONTENT: 6 Table Mats & 6 Coasters | ...   \n",
       "2108453      113675   NaN                                                NaN   \n",
       "2174826      230468   NaN                                                NaN   \n",
       "\n",
       "        DESCRIPTION  PRODUCT_TYPE_ID  PRODUCT_LENGTH  \n",
       "66157           NaN              222      507.873000  \n",
       "196485          NaN              150      575.000000  \n",
       "420890          NaN             6104      290.000000  \n",
       "477469          NaN             6632      500.000000  \n",
       "948754          NaN              109      555.117000  \n",
       "1144461         NaN                1      685.038000  \n",
       "1364032         NaN                1     1228.344000  \n",
       "1716822         NaN              154     1040.000000  \n",
       "1879925         NaN                1      799.211000  \n",
       "1885213         NaN              151      846.455000  \n",
       "1937873         NaN             1346     1181.102361  \n",
       "2108453         NaN             6044      600.000000  \n",
       "2174826         NaN                1      750.000000  "
      ]
     },
     "execution_count": 26,
     "metadata": {},
     "output_type": "execute_result"
    }
   ],
   "source": [
    "# Explore where `TITLE` is Empty\n",
    "reviews[reviews[\"TITLE\"].isnull()]"
   ]
  },
  {
   "cell_type": "markdown",
   "metadata": {},
   "source": [
    "We have no missing information for the `PRODUCT_ID`, `PRODUCT_TYPE_ID`, and `PRODUCT_LENGTH`. Each product in our dataset has a unique `PRODUCT_ID`. There are 13 instances where we don't have a product `TITLE`, and of these 13, only 2 have other information provided under `BULLET_POINTS` (`DESCRIPTION` is empty for all of these products).\n",
    "\n",
    "Roughly 37% of all products don't have any `BULLET_POINTS`, and about 51.5% of products don't have a `DESCRIPTION`. However, approximately 35% of products don't have BOTH any `BULLET_POINTS` nor `DESCRIPTION`, making a majority of products without a `BULLET_POINTS` also lacking a `DESCRIPTION`. Thus, a project where we create a `DESCRIPTION` from a given `BULLET_POINTS` doesn't make much sense...\n",
    "\n",
    "`PRODUCT_LENGTH` is a confusing variable. Outside of being an integer, we don't know anything else, like the unit of measurement, how it relates back to the product, etc. Let's investigate this next.\n",
    "\n",
    "Potential project idea: derive the title of the object given the `DESCRIPTION` or `BULLET_POINTS` with the `PRODUCT_TYPE_ID`."
   ]
  },
  {
   "cell_type": "code",
   "execution_count": 41,
   "metadata": {},
   "outputs": [
    {
     "name": "stdout",
     "output_type": "stream",
     "text": [
      "Unique number of product type IDs: 12907\n"
     ]
    }
   ],
   "source": [
    "# First, look into `PRODUCT_TYPE_ID`\n",
    "p_type_id_count = pd.DataFrame(reviews[\"PRODUCT_TYPE_ID\"].value_counts()).reset_index().sort_values([\"PRODUCT_TYPE_ID\"])\n",
    "\n",
    "print(f\"Unique number of product type IDs: {p_type_id_count.shape[0]}\")\n",
    "# Hstogram TODO:\n"
   ]
  },
  {
   "cell_type": "markdown",
   "metadata": {},
   "source": [
    "TODO: Analyze counts of values above\n",
    "There are 12,907 unique products types in this Amazon dataset, compared to the 2,249,698 products in this dataset. \n",
    "\n",
    "Another potential project idea: use NLP to determine what connects all the products to a specific `PRODUCT_TYPE_ID`."
   ]
  },
  {
   "cell_type": "code",
   "execution_count": null,
   "metadata": {},
   "outputs": [],
   "source": [
    "# Now, look at `PRODUCT_LENGTH`\n",
    "# TODO: "
   ]
  },
  {
   "cell_type": "markdown",
   "metadata": {},
   "source": [
    "TODO: From the histogram above, we see..."
   ]
  },
  {
   "cell_type": "markdown",
   "metadata": {},
   "source": [
    "#### Rows\n",
    "\n",
    "What information is provided for each product? What types of information are given?"
   ]
  },
  {
   "cell_type": "code",
   "execution_count": 6,
   "metadata": {},
   "outputs": [
    {
     "name": "stdout",
     "output_type": "stream",
     "text": [
      "PRODUCT_ID: 1925202\n",
      "TITLE: ArtzFolio Tulip Flowers Blackout Curtain for Door, Window & Room | Eyelets & Tie Back | Canvas Fabric | Width 4.5feet (54inch) Height 5 feet (60 inch); Set of 2 PCS\n",
      "BULLET_POINTS: [LUXURIOUS & APPEALING: Beautiful custom-made curtains to decorate any home or office | Includes inbuilt tieback to hold the curtain | Completely finished and ready to hang on walls & windows,MATERIAL: Luxurious & versatile fabric with a natural finish | High colour fastness | State-of-the-art digital printing ensures colour consistency and prevents any fading | Eyelets; Cotton Canvas; Width 4.5feet (54inch) | Multicolour | PACKAGE: 2 Room Curtains Eyelets | SIZE: Height 5 feet (60 inch); SET OF 2 PCS,BLACKOUT CURTAIN: 100% opaque & heavy premium cotton canvas fabric | Tight knitted, long life & durable fabric | Printing only on front side with a plain colour back side,MADE TO PERFECTION: Large eyelets at the top to put hanging hooks | Perfectly tailored seams for durability | Refined stitching with a matching thread color,QUALITY ASSURED: Gentle wash with similar colors in cold water | Avoid direct sunlight to prevent fading | Dispatched after MULTIPLE QUALITY CHECKS]\n",
      "DESCRIPTION: nan\n",
      "PRODUCT_TYPE_ID: 1650\n",
      "PRODUCT_LENGTH: 2125.98\n"
     ]
    }
   ],
   "source": [
    "for col in reviews.columns:\n",
    "    print(f\"{col}: {reviews[col][0]}\")"
   ]
  },
  {
   "cell_type": "markdown",
   "metadata": {},
   "source": [
    "In the row above, we see that `BULLET_POINTS` tends to give a description of the product itself. Unfortunately, the `DESCRIPTION` is not present."
   ]
  },
  {
   "cell_type": "code",
   "execution_count": 8,
   "metadata": {},
   "outputs": [
    {
     "name": "stdout",
     "output_type": "stream",
     "text": [
      "PRODUCT_ID: 2152929\n",
      "TITLE: HINS Metal Bucket Shape Plant Pot for Indoor & Outdoor Gardening (Red, Medium) Plant Stands for Indoor Balcony I Plant Bench I Plant Stands I Pot Stand Single I Potted Plant Stand I Big Pots I Metal\n",
      "BULLET_POINTS: [Simple and elegant, great for displaying indoor plants like succulent plants, air plants, seedling, herbs etc.,High Quality - Both Indoor/outdoor planter stand and flower pots are made of wrought iron material, with powder coated paint, rustproof and durable.,Pefect decor for living room, balcony and garden.,BEST QUALITY, STRONG AND DURABLE - The surface of the pot holder is rust-proofed and it can be used for a longer time.,The elevated indoor potted plant stand can make watering easier and give the plant a better space to grow.,A pragmatic and eco-friendly gift for any nature lover, gardening hobbyist or home decorist.,Note : Plants are only for display.These are not included with Planter,Please allow 0~2cm errors due to manual measurement.]\n",
      "DESCRIPTION: HINS Brings you the most Elegant Looking Pot with Stand for durable and long life Pot Stands for your lovely garden space, office and home. HINS is one of the best choice when it comes to indoor plants. It makes a good choice for housewarming gift. This beautiful product will take center stage with its sprawling design when planted with a plant. The metal stands are painted with powder-coated paint that will protect the galvanized iron from rusting. It will also prevent the color from fading. Each planter pot is removable for easy mobility, allowing you to switch out plants depending on your mood Note- Monitors are not calibrated same, item color displayed in photos may be showing slightly different from the real object. Please take the real one as standard. Please allow 0~2cm errors due to manual measurement.\n",
      "PRODUCT_TYPE_ID: 5725\n",
      "PRODUCT_LENGTH: 950.0\n"
     ]
    }
   ],
   "source": [
    "for col in reviews.columns:\n",
    "    print(f\"{col}: {reviews[col][5]}\")"
   ]
  },
  {
   "cell_type": "markdown",
   "metadata": {},
   "source": [
    "In the product above, we see that the `BULLET_POINTS` and `DESCRIPTION` are both very similar in terms of the content that is presented."
   ]
  }
 ],
 "metadata": {
  "kernelspec": {
   "display_name": "venv",
   "language": "python",
   "name": "python3"
  },
  "language_info": {
   "codemirror_mode": {
    "name": "ipython",
    "version": 3
   },
   "file_extension": ".py",
   "mimetype": "text/x-python",
   "name": "python",
   "nbconvert_exporter": "python",
   "pygments_lexer": "ipython3",
   "version": "3.11.4"
  },
  "orig_nbformat": 4
 },
 "nbformat": 4,
 "nbformat_minor": 2
}
