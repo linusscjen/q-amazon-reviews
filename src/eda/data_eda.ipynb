{
 "cells": [
  {
   "cell_type": "markdown",
   "metadata": {},
   "source": [
    "# Amazon Review EDA\n",
    "\n",
    "General EDA to understand the data, and create potential avenues for a model. Data from [this Amazon Product Dataset on Kaggle](https://www.kaggle.com/datasets/piyushjain16/amazon-product-data) - note that no meta card was provided."
   ]
  },
  {
   "cell_type": "code",
   "execution_count": 1,
   "metadata": {},
   "outputs": [],
   "source": [
    "# Modules\n",
    "import pandas as pd\n",
    "import numpy as np\n",
    "from pathlib import Path\n",
    "import os\n",
    "from plotnine import *\n",
    "import re\n",
    "from langdetect import detect, LangDetectException"
   ]
  },
  {
   "cell_type": "code",
   "execution_count": 2,
   "metadata": {},
   "outputs": [],
   "source": [
    "# Load in data\n",
    "try:\n",
    "    reviews = pd.read_csv(Path(os.getcwd()).parents[0].joinpath(\"data\", \"amazon_reviews.csv\"))\n",
    "except FileNotFoundError:\n",
    "    reviews = pd.read_csv(Path(os.getcwd()).parents[0].joinpath(\"data\", \"train.csv\"))"
   ]
  },
  {
   "cell_type": "markdown",
   "metadata": {},
   "source": [
    "Took 18 seconds to load on OP computer.\n",
    "On laptop, it took 1m21s! Geez..."
   ]
  },
  {
   "cell_type": "markdown",
   "metadata": {},
   "source": [
    "## Data Exploration\n",
    "\n",
    "Because there isn't a metacard provided, let's do some old-fashioned EDA."
   ]
  },
  {
   "cell_type": "code",
   "execution_count": 3,
   "metadata": {},
   "outputs": [
    {
     "data": {
      "text/html": [
       "<div>\n",
       "<style scoped>\n",
       "    .dataframe tbody tr th:only-of-type {\n",
       "        vertical-align: middle;\n",
       "    }\n",
       "\n",
       "    .dataframe tbody tr th {\n",
       "        vertical-align: top;\n",
       "    }\n",
       "\n",
       "    .dataframe thead th {\n",
       "        text-align: right;\n",
       "    }\n",
       "</style>\n",
       "<table border=\"1\" class=\"dataframe\">\n",
       "  <thead>\n",
       "    <tr style=\"text-align: right;\">\n",
       "      <th></th>\n",
       "      <th>PRODUCT_ID</th>\n",
       "      <th>TITLE</th>\n",
       "      <th>BULLET_POINTS</th>\n",
       "      <th>DESCRIPTION</th>\n",
       "      <th>PRODUCT_TYPE_ID</th>\n",
       "      <th>PRODUCT_LENGTH</th>\n",
       "    </tr>\n",
       "  </thead>\n",
       "  <tbody>\n",
       "    <tr>\n",
       "      <th>0</th>\n",
       "      <td>1925202</td>\n",
       "      <td>ArtzFolio Tulip Flowers Blackout Curtain for D...</td>\n",
       "      <td>[LUXURIOUS &amp; APPEALING: Beautiful custom-made ...</td>\n",
       "      <td>NaN</td>\n",
       "      <td>1650</td>\n",
       "      <td>2125.980000</td>\n",
       "    </tr>\n",
       "    <tr>\n",
       "      <th>1</th>\n",
       "      <td>2673191</td>\n",
       "      <td>Marks &amp; Spencer Girls' Pyjama Sets T86_2561C_N...</td>\n",
       "      <td>[Harry Potter Hedwig Pyjamas (6-16 Yrs),100% c...</td>\n",
       "      <td>NaN</td>\n",
       "      <td>2755</td>\n",
       "      <td>393.700000</td>\n",
       "    </tr>\n",
       "    <tr>\n",
       "      <th>2</th>\n",
       "      <td>2765088</td>\n",
       "      <td>PRIKNIK Horn Red Electric Air Horn Compressor ...</td>\n",
       "      <td>[Loud Dual Tone Trumpet Horn, Compatible With ...</td>\n",
       "      <td>Specifications: Color: Red, Material: Aluminiu...</td>\n",
       "      <td>7537</td>\n",
       "      <td>748.031495</td>\n",
       "    </tr>\n",
       "    <tr>\n",
       "      <th>3</th>\n",
       "      <td>1594019</td>\n",
       "      <td>ALISHAH Women's Cotton Ankle Length Leggings C...</td>\n",
       "      <td>[Made By 95%cotton and 5% Lycra which gives yo...</td>\n",
       "      <td>AISHAH Women's Lycra Cotton Ankel Leggings. Br...</td>\n",
       "      <td>2996</td>\n",
       "      <td>787.401574</td>\n",
       "    </tr>\n",
       "    <tr>\n",
       "      <th>4</th>\n",
       "      <td>283658</td>\n",
       "      <td>The United Empire Loyalists: A Chronicle of th...</td>\n",
       "      <td>NaN</td>\n",
       "      <td>NaN</td>\n",
       "      <td>6112</td>\n",
       "      <td>598.424000</td>\n",
       "    </tr>\n",
       "  </tbody>\n",
       "</table>\n",
       "</div>"
      ],
      "text/plain": [
       "   PRODUCT_ID                                              TITLE  \\\n",
       "0     1925202  ArtzFolio Tulip Flowers Blackout Curtain for D...   \n",
       "1     2673191  Marks & Spencer Girls' Pyjama Sets T86_2561C_N...   \n",
       "2     2765088  PRIKNIK Horn Red Electric Air Horn Compressor ...   \n",
       "3     1594019  ALISHAH Women's Cotton Ankle Length Leggings C...   \n",
       "4      283658  The United Empire Loyalists: A Chronicle of th...   \n",
       "\n",
       "                                       BULLET_POINTS  \\\n",
       "0  [LUXURIOUS & APPEALING: Beautiful custom-made ...   \n",
       "1  [Harry Potter Hedwig Pyjamas (6-16 Yrs),100% c...   \n",
       "2  [Loud Dual Tone Trumpet Horn, Compatible With ...   \n",
       "3  [Made By 95%cotton and 5% Lycra which gives yo...   \n",
       "4                                                NaN   \n",
       "\n",
       "                                         DESCRIPTION  PRODUCT_TYPE_ID  \\\n",
       "0                                                NaN             1650   \n",
       "1                                                NaN             2755   \n",
       "2  Specifications: Color: Red, Material: Aluminiu...             7537   \n",
       "3  AISHAH Women's Lycra Cotton Ankel Leggings. Br...             2996   \n",
       "4                                                NaN             6112   \n",
       "\n",
       "   PRODUCT_LENGTH  \n",
       "0     2125.980000  \n",
       "1      393.700000  \n",
       "2      748.031495  \n",
       "3      787.401574  \n",
       "4      598.424000  "
      ]
     },
     "execution_count": 3,
     "metadata": {},
     "output_type": "execute_result"
    }
   ],
   "source": [
    "reviews.head()"
   ]
  },
  {
   "cell_type": "code",
   "execution_count": 4,
   "metadata": {},
   "outputs": [
    {
     "name": "stdout",
     "output_type": "stream",
     "text": [
      "Data dimensions: (2249698, 6)\n"
     ]
    }
   ],
   "source": [
    "# View head\n",
    "print(f\"Data dimensions: {reviews.shape}\")"
   ]
  },
  {
   "cell_type": "markdown",
   "metadata": {},
   "source": [
    "We have 6 columns with 2,249,698 rows (products). Columns include a `PRODUCT_ID`, `TITLE`, `BULLET_POINTS`, `DESCRIPTION`, `PRODUCT_TYPE_ID`, and `PRODUCT_LENGTH`."
   ]
  },
  {
   "cell_type": "markdown",
   "metadata": {},
   "source": [
    "### Feature Exploration\n",
    "\n",
    "What data is missing? What is the distribution for the numeric columns (`PRODUCT_TYPE_ID` and `PRODUCT_LENGTH`)?"
   ]
  },
  {
   "cell_type": "code",
   "execution_count": 5,
   "metadata": {},
   "outputs": [
    {
     "data": {
      "text/html": [
       "<div>\n",
       "<style scoped>\n",
       "    .dataframe tbody tr th:only-of-type {\n",
       "        vertical-align: middle;\n",
       "    }\n",
       "\n",
       "    .dataframe tbody tr th {\n",
       "        vertical-align: top;\n",
       "    }\n",
       "\n",
       "    .dataframe thead th {\n",
       "        text-align: right;\n",
       "    }\n",
       "</style>\n",
       "<table border=\"1\" class=\"dataframe\">\n",
       "  <thead>\n",
       "    <tr style=\"text-align: right;\">\n",
       "      <th></th>\n",
       "      <th>column</th>\n",
       "      <th>num_miss</th>\n",
       "      <th>prop_miss</th>\n",
       "    </tr>\n",
       "  </thead>\n",
       "  <tbody>\n",
       "    <tr>\n",
       "      <th>0</th>\n",
       "      <td>PRODUCT_ID</td>\n",
       "      <td>0</td>\n",
       "      <td>0.0000</td>\n",
       "    </tr>\n",
       "    <tr>\n",
       "      <th>1</th>\n",
       "      <td>TITLE</td>\n",
       "      <td>13</td>\n",
       "      <td>0.0000</td>\n",
       "    </tr>\n",
       "    <tr>\n",
       "      <th>2</th>\n",
       "      <td>BULLET_POINTS</td>\n",
       "      <td>837366</td>\n",
       "      <td>0.3722</td>\n",
       "    </tr>\n",
       "    <tr>\n",
       "      <th>3</th>\n",
       "      <td>DESCRIPTION</td>\n",
       "      <td>1157382</td>\n",
       "      <td>0.5145</td>\n",
       "    </tr>\n",
       "    <tr>\n",
       "      <th>4</th>\n",
       "      <td>PRODUCT_TYPE_ID</td>\n",
       "      <td>0</td>\n",
       "      <td>0.0000</td>\n",
       "    </tr>\n",
       "    <tr>\n",
       "      <th>5</th>\n",
       "      <td>PRODUCT_LENGTH</td>\n",
       "      <td>0</td>\n",
       "      <td>0.0000</td>\n",
       "    </tr>\n",
       "  </tbody>\n",
       "</table>\n",
       "</div>"
      ],
      "text/plain": [
       "            column  num_miss  prop_miss\n",
       "0       PRODUCT_ID         0     0.0000\n",
       "1            TITLE        13     0.0000\n",
       "2    BULLET_POINTS    837366     0.3722\n",
       "3      DESCRIPTION   1157382     0.5145\n",
       "4  PRODUCT_TYPE_ID         0     0.0000\n",
       "5   PRODUCT_LENGTH         0     0.0000"
      ]
     },
     "execution_count": 5,
     "metadata": {},
     "output_type": "execute_result"
    }
   ],
   "source": [
    "# Missing data\n",
    "missing_df = pd.DataFrame(reviews.isnull().sum()).reset_index()\n",
    "missing_df.columns = [\"column\", \"num_miss\"]\n",
    "missing_df[\"prop_miss\"] = round(missing_df[\"num_miss\"] / reviews.shape[0], 4)\n",
    "missing_df"
   ]
  },
  {
   "cell_type": "code",
   "execution_count": 6,
   "metadata": {},
   "outputs": [
    {
     "name": "stdout",
     "output_type": "stream",
     "text": [
      "# of unique product IDs: 2249698\n"
     ]
    }
   ],
   "source": [
    "# Check uniqueness of `PRODUCT_ID`\n",
    "print(f\"# of unique product IDs: {reviews['PRODUCT_ID'].nunique()}\")\n",
    "\n",
    "if reviews['PRODUCT_ID'].nunique() != reviews.shape[0]:\n",
    "    print(\"Not all products in dataset are unique!\")"
   ]
  },
  {
   "cell_type": "code",
   "execution_count": 7,
   "metadata": {},
   "outputs": [
    {
     "name": "stdout",
     "output_type": "stream",
     "text": [
      "Missing for both `BULLET_POINTS` and `DESCRIPTION`: 783508 or 0.34827252368984635\n"
     ]
    }
   ],
   "source": [
    "# Likelihood that BOTH `BULLET_POINTS` and `DESCRIPTION` are missing\n",
    "both_miss = reviews[[\"BULLET_POINTS\", \"DESCRIPTION\"]].isnull().all(axis=1).sum()\n",
    "prop_both_miss = both_miss / reviews.shape[0]\n",
    "print(f\"Missing for both `BULLET_POINTS` and `DESCRIPTION`: {both_miss} or {prop_both_miss}\")"
   ]
  },
  {
   "cell_type": "code",
   "execution_count": 8,
   "metadata": {},
   "outputs": [
    {
     "data": {
      "text/html": [
       "<div>\n",
       "<style scoped>\n",
       "    .dataframe tbody tr th:only-of-type {\n",
       "        vertical-align: middle;\n",
       "    }\n",
       "\n",
       "    .dataframe tbody tr th {\n",
       "        vertical-align: top;\n",
       "    }\n",
       "\n",
       "    .dataframe thead th {\n",
       "        text-align: right;\n",
       "    }\n",
       "</style>\n",
       "<table border=\"1\" class=\"dataframe\">\n",
       "  <thead>\n",
       "    <tr style=\"text-align: right;\">\n",
       "      <th></th>\n",
       "      <th>PRODUCT_ID</th>\n",
       "      <th>TITLE</th>\n",
       "      <th>BULLET_POINTS</th>\n",
       "      <th>DESCRIPTION</th>\n",
       "      <th>PRODUCT_TYPE_ID</th>\n",
       "      <th>PRODUCT_LENGTH</th>\n",
       "    </tr>\n",
       "  </thead>\n",
       "  <tbody>\n",
       "    <tr>\n",
       "      <th>66157</th>\n",
       "      <td>1804</td>\n",
       "      <td>NaN</td>\n",
       "      <td>NaN</td>\n",
       "      <td>NaN</td>\n",
       "      <td>222</td>\n",
       "      <td>507.873000</td>\n",
       "    </tr>\n",
       "    <tr>\n",
       "      <th>196485</th>\n",
       "      <td>164542</td>\n",
       "      <td>NaN</td>\n",
       "      <td>NaN</td>\n",
       "      <td>NaN</td>\n",
       "      <td>150</td>\n",
       "      <td>575.000000</td>\n",
       "    </tr>\n",
       "    <tr>\n",
       "      <th>420890</th>\n",
       "      <td>16935</td>\n",
       "      <td>NaN</td>\n",
       "      <td>NaN</td>\n",
       "      <td>NaN</td>\n",
       "      <td>6104</td>\n",
       "      <td>290.000000</td>\n",
       "    </tr>\n",
       "    <tr>\n",
       "      <th>477469</th>\n",
       "      <td>1362139</td>\n",
       "      <td>NaN</td>\n",
       "      <td>[Top-notch and innovative tremolo pedal offers...</td>\n",
       "      <td>NaN</td>\n",
       "      <td>6632</td>\n",
       "      <td>500.000000</td>\n",
       "    </tr>\n",
       "    <tr>\n",
       "      <th>948754</th>\n",
       "      <td>566503</td>\n",
       "      <td>NaN</td>\n",
       "      <td>NaN</td>\n",
       "      <td>NaN</td>\n",
       "      <td>109</td>\n",
       "      <td>555.117000</td>\n",
       "    </tr>\n",
       "    <tr>\n",
       "      <th>1144461</th>\n",
       "      <td>678966</td>\n",
       "      <td>NaN</td>\n",
       "      <td>NaN</td>\n",
       "      <td>NaN</td>\n",
       "      <td>1</td>\n",
       "      <td>685.038000</td>\n",
       "    </tr>\n",
       "    <tr>\n",
       "      <th>1364032</th>\n",
       "      <td>548186</td>\n",
       "      <td>NaN</td>\n",
       "      <td>NaN</td>\n",
       "      <td>NaN</td>\n",
       "      <td>1</td>\n",
       "      <td>1228.344000</td>\n",
       "    </tr>\n",
       "    <tr>\n",
       "      <th>1716822</th>\n",
       "      <td>20369</td>\n",
       "      <td>NaN</td>\n",
       "      <td>NaN</td>\n",
       "      <td>NaN</td>\n",
       "      <td>154</td>\n",
       "      <td>1040.000000</td>\n",
       "    </tr>\n",
       "    <tr>\n",
       "      <th>1879925</th>\n",
       "      <td>496531</td>\n",
       "      <td>NaN</td>\n",
       "      <td>NaN</td>\n",
       "      <td>NaN</td>\n",
       "      <td>1</td>\n",
       "      <td>799.211000</td>\n",
       "    </tr>\n",
       "    <tr>\n",
       "      <th>1885213</th>\n",
       "      <td>555363</td>\n",
       "      <td>NaN</td>\n",
       "      <td>NaN</td>\n",
       "      <td>NaN</td>\n",
       "      <td>151</td>\n",
       "      <td>846.455000</td>\n",
       "    </tr>\n",
       "    <tr>\n",
       "      <th>1937873</th>\n",
       "      <td>1401496</td>\n",
       "      <td>NaN</td>\n",
       "      <td>[PACKAGE CONTENT: 6 Table Mats &amp; 6 Coasters | ...</td>\n",
       "      <td>NaN</td>\n",
       "      <td>1346</td>\n",
       "      <td>1181.102361</td>\n",
       "    </tr>\n",
       "    <tr>\n",
       "      <th>2108453</th>\n",
       "      <td>113675</td>\n",
       "      <td>NaN</td>\n",
       "      <td>NaN</td>\n",
       "      <td>NaN</td>\n",
       "      <td>6044</td>\n",
       "      <td>600.000000</td>\n",
       "    </tr>\n",
       "    <tr>\n",
       "      <th>2174826</th>\n",
       "      <td>230468</td>\n",
       "      <td>NaN</td>\n",
       "      <td>NaN</td>\n",
       "      <td>NaN</td>\n",
       "      <td>1</td>\n",
       "      <td>750.000000</td>\n",
       "    </tr>\n",
       "  </tbody>\n",
       "</table>\n",
       "</div>"
      ],
      "text/plain": [
       "         PRODUCT_ID TITLE                                      BULLET_POINTS  \\\n",
       "66157          1804   NaN                                                NaN   \n",
       "196485       164542   NaN                                                NaN   \n",
       "420890        16935   NaN                                                NaN   \n",
       "477469      1362139   NaN  [Top-notch and innovative tremolo pedal offers...   \n",
       "948754       566503   NaN                                                NaN   \n",
       "1144461      678966   NaN                                                NaN   \n",
       "1364032      548186   NaN                                                NaN   \n",
       "1716822       20369   NaN                                                NaN   \n",
       "1879925      496531   NaN                                                NaN   \n",
       "1885213      555363   NaN                                                NaN   \n",
       "1937873     1401496   NaN  [PACKAGE CONTENT: 6 Table Mats & 6 Coasters | ...   \n",
       "2108453      113675   NaN                                                NaN   \n",
       "2174826      230468   NaN                                                NaN   \n",
       "\n",
       "        DESCRIPTION  PRODUCT_TYPE_ID  PRODUCT_LENGTH  \n",
       "66157           NaN              222      507.873000  \n",
       "196485          NaN              150      575.000000  \n",
       "420890          NaN             6104      290.000000  \n",
       "477469          NaN             6632      500.000000  \n",
       "948754          NaN              109      555.117000  \n",
       "1144461         NaN                1      685.038000  \n",
       "1364032         NaN                1     1228.344000  \n",
       "1716822         NaN              154     1040.000000  \n",
       "1879925         NaN                1      799.211000  \n",
       "1885213         NaN              151      846.455000  \n",
       "1937873         NaN             1346     1181.102361  \n",
       "2108453         NaN             6044      600.000000  \n",
       "2174826         NaN                1      750.000000  "
      ]
     },
     "execution_count": 8,
     "metadata": {},
     "output_type": "execute_result"
    }
   ],
   "source": [
    "# Explore where `TITLE` is Empty\n",
    "reviews[reviews[\"TITLE\"].isnull()]"
   ]
  },
  {
   "cell_type": "markdown",
   "metadata": {},
   "source": [
    "We have no missing information for the `PRODUCT_ID`, `PRODUCT_TYPE_ID`, and `PRODUCT_LENGTH`. Each product in our dataset has a unique `PRODUCT_ID`. There are 13 instances where we don't have a product `TITLE`, and of these 13, only 2 have other information provided under `BULLET_POINTS` (`DESCRIPTION` is empty for all of these products).\n",
    "\n",
    "Roughly 37% of all products don't have any `BULLET_POINTS`, and about 51.5% of products don't have a `DESCRIPTION`. However, approximately 35% of products don't have BOTH any `BULLET_POINTS` nor `DESCRIPTION`, making a majority of products without a `BULLET_POINTS` also lacking a `DESCRIPTION`. Thus, a project where we create a `DESCRIPTION` from a given `BULLET_POINTS` doesn't make much sense...\n",
    "\n",
    "`PRODUCT_LENGTH` is a confusing variable. Outside of being an integer, we don't know anything else, like the unit of measurement, how it relates back to the product, etc. Let's investigate this next.\n",
    "\n",
    "Potential project idea: derive the title of the object given the `DESCRIPTION` or `BULLET_POINTS` with the `PRODUCT_TYPE_ID`."
   ]
  },
  {
   "cell_type": "code",
   "execution_count": 9,
   "metadata": {},
   "outputs": [
    {
     "name": "stdout",
     "output_type": "stream",
     "text": [
      "Unique number of product type IDs: 12907\n",
      "Range of PRODUCT_TYPE_IDs: 0 - 13420\n"
     ]
    }
   ],
   "source": [
    "# First, look into `PRODUCT_TYPE_ID`\n",
    "p_type_id_count = pd.DataFrame(reviews[\"PRODUCT_TYPE_ID\"].value_counts()).reset_index().sort_values([\"PRODUCT_TYPE_ID\"])\n",
    "\n",
    "print(f\"Unique number of product type IDs: {p_type_id_count.shape[0]}\")\n",
    "print(f\"Range of PRODUCT_TYPE_IDs: {min(p_type_id_count['PRODUCT_TYPE_ID'])} - {max(p_type_id_count['PRODUCT_TYPE_ID'])}\")"
   ]
  },
  {
   "cell_type": "code",
   "execution_count": 10,
   "metadata": {},
   "outputs": [
    {
     "name": "stderr",
     "output_type": "stream",
     "text": [
      "c:\\Users\\geddy\\Documents\\GitHub\\q-amazon-reviews\\venv\\lib\\site-packages\\plotnine\\stats\\stat_bin.py:109: PlotnineWarning: 'stat_bin()' using 'bins = 143'. Pick better value with 'binwidth'.\n"
     ]
    },
    {
     "data": {
      "image/png": "[encoded data removed]",
      "text/plain": [
       "<Figure size 640x480 with 1 Axes>"
      ]
     },
     "metadata": {
      "image/png": {
       "height": 480,
       "width": 640
      },
      "needs_background": "light"
     },
     "output_type": "display_data"
    },
    {
     "data": {
      "text/plain": [
       "<Figure Size: (640 x 480)>"
      ]
     },
     "execution_count": 10,
     "metadata": {},
     "output_type": "execute_result"
    }
   ],
   "source": [
    "(ggplot(reviews, aes(x=\"PRODUCT_TYPE_ID\"))\n",
    " + geom_histogram()\n",
    " + theme_minimal()\n",
    " + labs(title = \"Histogram of PRODUCT_TYPE_ID\"))"
   ]
  },
  {
   "cell_type": "markdown",
   "metadata": {},
   "source": [
    "Although there are 12,907 unique `PRODUCT_TYPE_ID`s, the values range from 0-13420. A majority of items have low `PRODUCT_TYPE_ID`s (as evident with the tall lines for the lower values).\n",
    "\n",
    "\n",
    "There are 12,907 unique products types in this Amazon dataset, compared to the 2,249,698 products in this dataset. \n",
    "\n",
    "Another potential project idea: use NLP to determine what connects all the products to a specific `PRODUCT_TYPE_ID`."
   ]
  },
  {
   "cell_type": "code",
   "execution_count": 11,
   "metadata": {},
   "outputs": [
    {
     "name": "stdout",
     "output_type": "stream",
     "text": [
      "count    2.249698e+06\n",
      "mean     4.071839e+03\n",
      "std      1.351685e+06\n",
      "min      1.000000e+00\n",
      "25%      5.118110e+02\n",
      "50%      6.630000e+02\n",
      "75%      1.062992e+03\n",
      "max      1.885801e+09\n",
      "Name: PRODUCT_LENGTH, dtype: float64\n"
     ]
    },
    {
     "data": {
      "image/png": "[encoded data removed]",
      "text/plain": [
       "<Figure size 640x480 with 1 Axes>"
      ]
     },
     "metadata": {
      "image/png": {
       "height": 480,
       "width": 640
      }
     },
     "output_type": "display_data"
    },
    {
     "data": {
      "text/plain": [
       "<Figure Size: (640 x 480)>"
      ]
     },
     "execution_count": 11,
     "metadata": {},
     "output_type": "execute_result"
    }
   ],
   "source": [
    "# Now, look at `PRODUCT_LENGTH`\n",
    "print(reviews[\"PRODUCT_LENGTH\"].describe())\n",
    "(ggplot(reviews[reviews[\"PRODUCT_LENGTH\"] <= 10000], aes(x=\"PRODUCT_LENGTH\"))\n",
    " + geom_histogram(bins=100))"
   ]
  },
  {
   "cell_type": "markdown",
   "metadata": {},
   "source": [
    "From the histogram above, we see that a majority of the `PRODUCT_LENGTH`s are between 100-1500, and the distribution is skewed right. There are a few outliers (many of which occur after 2500 or so). "
   ]
  },
  {
   "cell_type": "markdown",
   "metadata": {},
   "source": [
    "#### Rows\n",
    "\n",
    "What information is provided for each product? What types of information are given?"
   ]
  },
  {
   "cell_type": "code",
   "execution_count": 12,
   "metadata": {},
   "outputs": [
    {
     "name": "stdout",
     "output_type": "stream",
     "text": [
      "PRODUCT_ID: 1925202\n",
      "TITLE: ArtzFolio Tulip Flowers Blackout Curtain for Door, Window & Room | Eyelets & Tie Back | Canvas Fabric | Width 4.5feet (54inch) Height 5 feet (60 inch); Set of 2 PCS\n",
      "BULLET_POINTS: [LUXURIOUS & APPEALING: Beautiful custom-made curtains to decorate any home or office | Includes inbuilt tieback to hold the curtain | Completely finished and ready to hang on walls & windows,MATERIAL: Luxurious & versatile fabric with a natural finish | High colour fastness | State-of-the-art digital printing ensures colour consistency and prevents any fading | Eyelets; Cotton Canvas; Width 4.5feet (54inch) | Multicolour | PACKAGE: 2 Room Curtains Eyelets | SIZE: Height 5 feet (60 inch); SET OF 2 PCS,BLACKOUT CURTAIN: 100% opaque & heavy premium cotton canvas fabric | Tight knitted, long life & durable fabric | Printing only on front side with a plain colour back side,MADE TO PERFECTION: Large eyelets at the top to put hanging hooks | Perfectly tailored seams for durability | Refined stitching with a matching thread color,QUALITY ASSURED: Gentle wash with similar colors in cold water | Avoid direct sunlight to prevent fading | Dispatched after MULTIPLE QUALITY CHECKS]\n",
      "DESCRIPTION: nan\n",
      "PRODUCT_TYPE_ID: 1650\n",
      "PRODUCT_LENGTH: 2125.98\n"
     ]
    }
   ],
   "source": [
    "for col in reviews.columns:\n",
    "    print(f\"{col}: {reviews[col][0]}\")"
   ]
  },
  {
   "cell_type": "markdown",
   "metadata": {},
   "source": [
    "In the row above, we see that `BULLET_POINTS` tends to give a description of the product itself. Unfortunately, the `DESCRIPTION` is not present."
   ]
  },
  {
   "cell_type": "code",
   "execution_count": 13,
   "metadata": {},
   "outputs": [
    {
     "name": "stdout",
     "output_type": "stream",
     "text": [
      "PRODUCT_ID: 2152929\n",
      "TITLE: HINS Metal Bucket Shape Plant Pot for Indoor & Outdoor Gardening (Red, Medium) Plant Stands for Indoor Balcony I Plant Bench I Plant Stands I Pot Stand Single I Potted Plant Stand I Big Pots I Metal\n",
      "BULLET_POINTS: [Simple and elegant, great for displaying indoor plants like succulent plants, air plants, seedling, herbs etc.,High Quality - Both Indoor/outdoor planter stand and flower pots are made of wrought iron material, with powder coated paint, rustproof and durable.,Pefect decor for living room, balcony and garden.,BEST QUALITY, STRONG AND DURABLE - The surface of the pot holder is rust-proofed and it can be used for a longer time.,The elevated indoor potted plant stand can make watering easier and give the plant a better space to grow.,A pragmatic and eco-friendly gift for any nature lover, gardening hobbyist or home decorist.,Note : Plants are only for display.These are not included with Planter,Please allow 0~2cm errors due to manual measurement.]\n",
      "DESCRIPTION: HINS Brings you the most Elegant Looking Pot with Stand for durable and long life Pot Stands for your lovely garden space, office and home. HINS is one of the best choice when it comes to indoor plants. It makes a good choice for housewarming gift. This beautiful product will take center stage with its sprawling design when planted with a plant. The metal stands are painted with powder-coated paint that will protect the galvanized iron from rusting. It will also prevent the color from fading. Each planter pot is removable for easy mobility, allowing you to switch out plants depending on your mood Note- Monitors are not calibrated same, item color displayed in photos may be showing slightly different from the real object. Please take the real one as standard. Please allow 0~2cm errors due to manual measurement.\n",
      "PRODUCT_TYPE_ID: 5725\n",
      "PRODUCT_LENGTH: 950.0\n"
     ]
    }
   ],
   "source": [
    "for col in reviews.columns:\n",
    "    print(f\"{col}: {reviews[col][5]}\")"
   ]
  },
  {
   "cell_type": "markdown",
   "metadata": {},
   "source": [
    "In the product above, we see that the `BULLET_POINTS` and `DESCRIPTION` are both very similar in terms of the content that is presented."
   ]
  },
  {
   "cell_type": "markdown",
   "metadata": {},
   "source": [
    "## Data Cleaning\n",
    "\n",
    "Instead of reinventing the wheel, we could use many of the preprocessing functions that Piyush Jain (the person who uploaded the dataset) created and used. This can be found at https://www.kaggle.com/code/piyushjain16/amazon-data-analysis#PreProcessing"
   ]
  },
  {
   "cell_type": "code",
   "execution_count": 14,
   "metadata": {},
   "outputs": [],
   "source": [
    "# Preprocessing\n",
    "# NOTE: All of the following functions are taken from Piyush. I do not claim to have written any of these.\n",
    "def remove_url(txt):\n",
    "    txt = re.sub(r\"\\w+:\\/\\/.*?(?=\\s)\", '', txt)\n",
    "    return txt\n",
    "\n",
    "def remove_email(text):\n",
    "    return re.sub('\\S*@\\S*\\s?', '', text)\n",
    "\n",
    "# Function for expanding most common contractions\n",
    "def decontraction(phrase):\n",
    "    # general\n",
    "    phrase = re.sub(r\"n\\'t\", \" not\", phrase)\n",
    "    phrase = re.sub(r\"\\'t\", \" not\", phrase)\n",
    "    phrase = re.sub(r\"\\'re\", \" are\", phrase)\n",
    "    phrase = re.sub(r\"\\'s\", \" is\", phrase)\n",
    "    phrase = re.sub(r\"\\'d\", \" would\", phrase)\n",
    "    phrase = re.sub(r\"\\'ll\", \" will\", phrase)\n",
    "    phrase = re.sub(r\"\\'t\", \" not\", phrase)\n",
    "    phrase = re.sub(r\"\\'ve\", \" have\", phrase)\n",
    "    phrase = re.sub(r\"\\'m\", \" am\", phrase)\n",
    "    phrase = re.sub(r\"&\", \"and\", phrase)\n",
    "    return phrase\n",
    "\n",
    "def remove_escape_sequences(text):\n",
    "    text=text.replace(r\"\\n\",\"\")\n",
    "    text=text.replace(r\"\\t\",\"\")\n",
    "    text=text.replace(r\"\\r\",\"\")\n",
    "    return text\n",
    "\n",
    "def remove_emojize(txt):\n",
    "    emoji_pattern = re.compile(\"[\"\n",
    "        u\"\\U0001F600-\\U0001F64F\"  # emoticons\n",
    "        u\"\\U0001F300-\\U0001F5FF\"  # symbols & pictographs\n",
    "        u\"\\U0001F680-\\U0001F6FF\"  # transport & map symbols\n",
    "        u\"\\U0001F1E0-\\U0001F1FF\"  # flags (iOS)\n",
    "        u\"\\U00002702-\\U000027B0\"\n",
    "        u\"\\U000024C2-\\U0001F251\"\n",
    "                           \"]+\", flags=re.UNICODE)\n",
    "    return emoji_pattern.sub(r'', txt) # no emoji\n",
    "\n",
    "def remove_special(txt):\n",
    "    # remove trademark and registered \n",
    "    pattern2=re.compile(\"\\\\u00AE|\\\\u00a9|\\\\u2122\")\n",
    "    txt=pattern2.sub(r'',txt)\n",
    "    return txt\n",
    "\n",
    "def remove_html(txt):\n",
    "    pattern=re.compile('<.*?>')\n",
    "    return pattern.sub(r'',txt)\n",
    "\n",
    "def remove_phoneno(txt):\n",
    "    pattern=re.compile(\"((?:\\+\\d{2}[-\\.\\s]??|\\d{4}[-\\.\\s]??)?(?:\\d{3}[-\\.\\s]??\\d{3}[-\\.\\s]??\\d{4}|\\(\\d{3}\\)\\s*\\d{3}[-\\.\\s]??\\d{4}|\\d{3}[-\\.\\s]??\\d{4}))\")\n",
    "    return pattern.sub(r'',txt)\n",
    "\n",
    "def rename_units(txt):\n",
    "    d={'in.':'inch','inches':'inch','yards':'yard','feets':'feet','centimeter':'cm','cms':'cm','metre':'m','mtr':'m','meters':'m'}\n",
    "    for char in d.keys():\n",
    "        txt = txt.replace(char, d[char])\n",
    "    return txt\n",
    "\n",
    "def replace_seq(txt):\n",
    "    d={':-':':',': -':':',';':',','||':'|'}\n",
    "    for char in d.keys():\n",
    "        txt = txt.replace(char, d[char])\n",
    "    return txt\n",
    "\n",
    "def remove_other_langs(txt: str):\n",
    "    \"\"\"Own function - using `langdetect`, remove all texts where language is not detected to be 'en'\n",
    "\n",
    "    Args:\n",
    "        txt (str): text that language needs to be detected from\n",
    "    \"\"\"\n",
    "    try:\n",
    "        if type(txt) == str and detect(txt) != \"en\":\n",
    "            txt = np.nan\n",
    "    except LangDetectException:\n",
    "        # When nothing is provided or words are not recognized\n",
    "        txt = np.nan\n",
    "    finally:\n",
    "        return txt\n",
    "\n",
    "\n",
    "def preprocessing(txt):\n",
    "    if type(txt)==str:\n",
    "        txt=remove_url(txt)\n",
    "        txt=remove_email(txt)\n",
    "        txt=remove_phoneno(txt)\n",
    "        txt=remove_html(txt)\n",
    "        txt=remove_emojize(txt)\n",
    "        txt=remove_special(txt)\n",
    "        txt=remove_escape_sequences(txt)\n",
    "        txt=decontraction(txt)\n",
    "        txt=txt.lower()\n",
    "        txt=rename_units(txt)\n",
    "        txt=replace_seq(txt)\n",
    "        # txt=remove_other_langs(txt)\n",
    "        return txt\n",
    "    else:\n",
    "        return np.nan"
   ]
  },
  {
   "cell_type": "code",
   "execution_count": 15,
   "metadata": {},
   "outputs": [],
   "source": [
    "# Apply changes - again, taken from Piyush\n",
    "reviews['TITLE'] = reviews['TITLE'].apply(preprocessing)\n",
    "reviews['BULLET_POINTS'] = reviews['BULLET_POINTS'].apply(preprocessing)\n",
    "reviews['DESCRIPTION'] = reviews['DESCRIPTION'].apply(preprocessing)"
   ]
  },
  {
   "cell_type": "code",
   "execution_count": 18,
   "metadata": {},
   "outputs": [
    {
     "name": "stdout",
     "output_type": "stream",
     "text": [
      "artzfolio tulip flowers blackout curtain for door, window and room | eyelets and tie back | canvas fabric | width 4.5feet (54inch) height 5 feet (60 inch), set of 2 pcs\n",
      "[luxurious and appealing: beautiful custom-made curtains to decorate any home or office | includes inbuilt tieback to hold the curtain | completely finished and ready to hang on walls and windows,material: luxurious and versatile fabric with a natural finish | high colour fastness | state-of-the-art digital printing ensures colour consistency and prevents any fading | eyelets, cotton canvas, width 4.5feet (54inch) | multicolour | package: 2 room curtains eyelets | size: height 5 feet (60 inch), set of 2 pcs,blackout curtain: 100% opaque and heavy premium cotton canvas fabric | tight knitted, long life and durable fabric | printing only on front side with a plain colour back side,made to perfection: large eyelets at the top to put hanging hooks | perfectly tailored seams for durability | refined stitching with a matching thread color,quality assured: gentle wash with similar colors in cold water | avoid direct sunlight to prevent fading | dispatched after multiple quality checks]\n",
      "nan\n",
      "\n",
      "\n",
      "marks and spencer girls' pyjama sets t86_2561c_navy mix_9-10y\n",
      "[harry potter hedwig pyjamas (6-16 yrs),100% cotton (exclusive of trimmings),ribbing - 98% cotton, 2% elastane]\n",
      "nan\n",
      "\n",
      "\n",
      "priknik horn red electric air horn compressor interior dual tone trumpet loud compatible with sx4\n",
      "[loud dual tone trumpet horn, compatible with sx4,electric air horn with compressor, compatible with sx4,high quality, high intensity horn sound, compatible with sx4,color: red, compatible with sx4,professional installation required, compatible with sx4]\n",
      "specifications: color: red, material: aluminium, voltage: 12v, db: 130 db (around), material: aluminum pump head + steel pump body + abs shell and parts db output: 130db voltage: 12v sound type: dual tone application: 12v voltage vehicles with battery above 20a package included: 1 x dual tone air horn compatible with sx4\n",
      "\n",
      "\n",
      "alishah women is cotton ankle length leggings combo of 2, plus 12 colors_l\n",
      "[made by 95%cotton and 5% lycra which gives you 4 ways stretchable comfort, gsm 180 to 190,come with elasticized waist band, slim fit,bubble free fabric and high quality steaching, bio wash,skin-friendly fabric,ankle length leggings pack of 2]\n",
      "aishah women is lycra cotton ankel leggings. brand: alishah length: ankel length leggings. size chart medium: 28 - 30 inch large: 30 - 32 inch x-large: 32 - 34 inch 2x-large: 34 - 38 inch the color fade will not be there in washing. this cotton stretch leggings is designed to provide absolute comfort and body fit. pair it with short or long kurta for modern look. high on style, fit and finish, this leggings is sure to lend you a sophisticated look. please wash the dark colors separately in order to improve the product life. disclaimer: product color may slightly vary due to photographic lighting sources or your monitor settings. please order according to your waist size mentioned in size chart\n",
      "\n",
      "\n",
      "the united empire loyalists: a chronicle of the great migration\n",
      "nan\n",
      "nan\n",
      "\n",
      "\n",
      "hins metal bucket shape plant pot for indoor and outdoor gardening (red, medium) plant stands for indoor balcony i plant bench i plant stands i pot stand single i potted plant stand i big pots i metal\n",
      "[simple and elegant, great for displaying indoor plants like succulent plants, air plants, seedling, herbs etc.,high quality - both indoor/outdoor planter stand and flower pots are made of wrought iron material, with powder coated paint, rustproof and durable.,pefect decor for living room, balcony and garden.,best quality, strong and durable - the surface of the pot holder is rust-proofed and it can be used for a longer time.,the elevated indoor potted plant stand can make watering easier and give the plant a better space to grow.,a pragmatic and eco-friendly gift for any nature lover, gardening hobbyist or home decorist.,note : plants are only for display.these are not included with planter,please allow 0~2cm errors due to manual measurement.]\n",
      "hins brings you the most elegant looking pot with stand for durable and long life pot stands for your lovely garden space, office and home. hins is one of the best choice when it comes to indoor plants. it makes a good choice for housewarming gift. this beautiful product will take center stage with its sprawling design when planted with a plant. the metal stands are painted with powder-coated paint that will protect the galvanized iron from rusting. it will also prevent the color from fading. each planter pot is removable for easy mobility, allowing you to switch out plants depending on your mood note- monitors are not calibrated same, item color displayed in photos may be showing slightly different from the real object. please take the real one as standard. please allow 0~2cm errors due to manual measurement.\n",
      "\n",
      "\n",
      "ungifted: my life and journey\n",
      "nan\n",
      "nan\n",
      "\n",
      "\n",
      "delavala self adhesive kitchen backsplash wallpaper, oil proof aluminum foil kitchen sticker (sliver 5(m))\n",
      "[high quality pvc material: the kitchen aluminum foil stickers are made from plastic and aluminum foil, which is much stronger against high temperature than normal pvc sheet. the anti-bacterial, anti-mold, and eco-friendly pvc materials is safe enough to use in kitchen.,easy to use and clean: self-adhesive kitchen wallpaper is easy to stick on the dry, clean and smooth surface. anti-oil, anti-dust and anti-water, anti-moisture pvc material allows you to wipe stains easily.,easy cut and trim: back cut-to-fit grid lines design of the self-adhesive kitchen oil proof sticker is convenient for you to cut and trim any size you want. this silver rhombus texture add more fashion to your kitchen decor.,multi-usage: the kitchen backsplash wallpaper is great for home decorations to be used in kitchen cabinets ,countertop ,shelves, walls ,pantry areas ,dishwashers, dishwasher panels, oven hood, refrigerators ,appliance etc, instant peel and apply to flat surfaces.,anti-oil, anti-dust and anti-water: made from plastic and aluminum foil, much stronger against fire than normal pvc sheet. resistant to heat and moisture, easy wipe to remove the stains!]\n",
      "aluminum foil stickers-good kitchen helper for mom and wife.andnbsp,specification: andnbsp,-materials: high-quality pvc andnbsp,-size: 2 mtandnbsp,-color: silver andnbsp,-friendly note: please buy enough rolls at a time to make sure that these wallpaper comes from the same batch to avoid color difference. andnbsp,-this aluminum foil stickers can be used for any dry, clean and smooth surface.andnbsp,features: andnbsp,1.high temperature resistant material is suitable for kitchen, which resists temperatures up to 250 celsius. it can be used for a long time and will not deform. andnbsp,2.easily to cut up: a grid line in square on the back, easy for you get the size you need when you cut.andnbsp,how to use? andnbsp,1.before sticking the kitchen oil proof wallpaper, please clean and dry surface with mild soap and water. make sure that surface is flat and without any carve. andnbsp,2.just cut out the size you want. andnbsp,3.use dishcloth or card to remove any air bubbles.andnbsp,package included: andnbsp,1 × kitchen backsplash wallpaperandnbsp,100% satisfaction guaranteed: andnbsp,we are always available to provide professional customer service before and after your purchase, so do not wait any longer and enjoy it right now.andnbsp,andnbsp,\n",
      "\n",
      "\n",
      "puma cali sport clean women is sneakers white leather (1)\n",
      "[style name:cali sport clean women is sneakers,upper material:leather,lower material:rubber,care instructions: wipe with a clean dry cloth,warranty period: 90 days manufacturers warranty]\n",
      "nan\n",
      "\n",
      "\n",
      "hexwell essential oil for home fragrance oil aroma diffuser oil set of 2 rajnigandha oil and teatree oil -10ml each\n",
      "[100% pure and natural essential oil or fragrance oil, each bottle in 10ml of aromatherapy essential oils available.,this essential oil set could be used in professional environments like massage facilities, beauty salons and offices, or used to diffuse/humidify the air in the rooms.,for those who love diy, these essential oils could be perfect for baths, body and hair care, homemade lotions, candles, candle wax, soy wax, soap base, perfumes, cleaning, art and craft projects, pine cones, incense sticks or cones, other unscented products and so much more!,we have this types of aromas essential diffuser oil of lavender oil, rose oil, tea tree oil, rosemary oil, jasmine oil, rajnigandha oil, eucalyptus oil, lemongrass oil, orchid oil and sandalwood oil,a perfect gift for everyday use.]\n",
      "transform your home, workplace or hotel room into your personal aromatherapy oasis! with elegantly designed diffusers and aroma diffuser oils, you can infuse essential oils into any setting and create a spa-like experience anywhere life takes you. 10 bottle each of lavender, rose, tea tree, rosemary, jasmine, rajnigandha, eucalyptus, lemongrass, orchid and sandalwood fragrance.\n",
      "\n",
      "\n",
      "3nh glasses goggles anti fog antis windproof anti dust resistant\n",
      "[good quality and suitable to use.,this product comes in a proper packaging.,delivery within 3-5 weeks,in case of any query or issue. feel free to reach out to us.,contains: pack of 1]\n",
      "3nh glasses goggles anti fog antis windproof anti dust resistant\n",
      "\n",
      "\n",
      "la mure / valbonnais gps\n",
      "nan\n",
      "nan\n",
      "\n",
      "\n",
      "j'ecris des lettres! premiers exercices d'écriture 5-6 ans\n",
      "nan\n",
      "nan\n",
      "\n",
      "\n",
      "mediterranean diet for beginners: 7benefits of mediterranean diet,7day plan and 70yummy easy recipes\n",
      "nan\n",
      "nan\n",
      "\n",
      "\n",
      "segovia single walled stainless steel sports| fridge water bottle with ss cap 1000 ml bottle (straight+belly with sipper cap / cola+ smart with steel cap pack of 4 pcs)\n",
      "[segovia bottle consists of stainless steel which provides a robust build for any occasion whether it be hiking, cycling, camping, gym or just to the office. its special design along with its material is a testament to its durability,the bottle and cap are made from bpa free materials and food grade steel. it is free of toxins and safe for you to use and drink from.single layer wall stainless steel water bottle,no heat preservation function, be careful when adding hot water.]\n",
      "segovia bottle consists of stainless steel which provides a robust build for any occasion whether it be hiking, cycling, camping, gym or just to the office. its special design along with its material is a testament to its durability. the bottle and cap are made from bpa free materials and food grade steel. it is free of toxins and safe for you to use and drink from.single layer wall stainless steel water bottle,no heat preservation function, be careful when adding hot water.\n",
      "\n",
      "\n",
      "stone and beam fan embossed planter in blue, medium\n",
      "nan\n",
      "nan\n",
      "\n",
      "\n",
      "star trek 50th anniversary cereamic storage jar\n",
      "nan\n",
      "nan\n",
      "\n",
      "\n",
      "steelbird hi-gn sbh-11 hunk glossy black and blue with smoke visor,580 mm\n",
      "[high impact abs material shell,replaceable and washable interior,multi-layer eps (thermocol) high density and low density for more safety with air channels,italian design hygienic interior with multipored breathable pedding neck protector for extra comfort,no impact on your hair growth due to anti-bacteria coating in helmet interior,anti allergic interior,size: 580mm (m),country of origin: india]\n",
      "nan\n",
      "\n",
      "\n",
      "kenneth cole reaction men is crespo loafer b shoe, cognac, 10 m us\n",
      "[burnished metal center bit,slightly padded footbed]\n",
      "nan\n",
      "\n",
      "\n",
      "master of the rings\n",
      "nan\n",
      "master of the rings\n",
      "\n",
      "\n"
     ]
    }
   ],
   "source": [
    "# View some of the changes\n",
    "for i in range(20):\n",
    "    print(reviews[\"TITLE\"][i])\n",
    "    print(reviews[\"BULLET_POINTS\"][i])\n",
    "    print(reviews[\"DESCRIPTION\"][i])\n",
    "    print(\"\\n\")\n"
   ]
  },
  {
   "cell_type": "code",
   "execution_count": 17,
   "metadata": {},
   "outputs": [],
   "source": [
    "# Remove all products where `TITLE` is not present\n",
    "rev_clean = reviews[reviews[\"TITLE\"].notnull()]\n",
    "\n",
    "# Finally, save the dataset\n",
    "reviews[reviews[\"TITLE\"].notnull()].to_csv(Path(os.getcwd()).parents[0].joinpath(\"data\", \"amazon_reviews_clean.csv\"))"
   ]
  },
  {
   "cell_type": "code",
   "execution_count": null,
   "metadata": {},
   "outputs": [],
   "source": []
  }
 ],
 "metadata": {
  "kernelspec": {
   "display_name": "venv",
   "language": "python",
   "name": "python3"
  },
  "language_info": {
   "codemirror_mode": {
    "name": "ipython",
    "version": 3
   },
   "file_extension": ".py",
   "mimetype": "text/x-python",
   "name": "python",
   "nbconvert_exporter": "python",
   "pygments_lexer": "ipython3",
   "version": "3.10.10"
  },
  "orig_nbformat": 4
 },
 "nbformat": 4,
 "nbformat_minor": 2
}
